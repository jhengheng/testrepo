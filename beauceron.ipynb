{
 "cells": [
  {
   "cell_type": "markdown",
   "metadata": {},
   "source": [
    "<center>\n",
    "    <img src=\"https://cf-courses-data.s3.us.cloud-object-storage.appdomain.cloud/IBMDeveloperSkillsNetwork-DS0105EN-SkillsNetwork/labs/Module2/images/SN_web_lightmode.png\" width=\"300\" alt=\"cognitiveclass.ai logo\">\n",
    "</center>\n"
   ]
  },
  {
   "cell_type": "markdown",
   "metadata": {},
   "source": [
    "#### Add your code below following the instructions given in the course\n"
   ]
  },
  {
   "cell_type": "markdown",
   "metadata": {},
   "source": [
    "# My Jupyter Notebook on IBM Watson Studio"
   ]
  },
  {
   "cell_type": "markdown",
   "metadata": {
    "tags": []
   },
   "source": [
    "# __Jarel Fernandez__\n",
    "# Data Scientist"
   ]
  },
  {
   "cell_type": "markdown",
   "metadata": {},
   "source": [
    "# _I am interested in Data Science because it might be the best way to use information to help society_"
   ]
  },
  {
   "cell_type": "markdown",
   "metadata": {},
   "source": [
    "The following is a list of Data Science languages\n",
    "- Python\n",
    "- R\n",
    "- Go\n",
    "- Scala"
   ]
  },
  {
   "cell_type": "markdown",
   "metadata": {
    "tags": []
   },
   "source": [
    "The following will display Data Science libraries\n",
    "- Pandas\n",
    "- TensorFlow\n",
    "- Matplotlib\n",
    "- NumPy"
   ]
  },
  {
   "cell_type": "markdown",
   "metadata": {},
   "source": [
    "| Data Science Tools | Language | \n",
    "| --- | --- |\n",
    "| Watson Studio | Various | \n",
    "| Jupyter Notebooks | Python, R |\n",
    "| RStudio | R |\n",
    "| GitHub | Various |"
   ]
  },
  {
   "cell_type": "markdown",
   "metadata": {},
   "source": [
    "You are able to do arithmetic expressions such as adding and multiplying."
   ]
  },
  {
   "cell_type": "code",
   "execution_count": 1,
   "metadata": {},
   "outputs": [
    {
     "name": "stdout",
     "output_type": "stream",
     "text": [
      "702\n",
      "104\n",
      "68\n"
     ]
    }
   ],
   "source": [
    "print(78*9)\n",
    "print(80+24)\n",
    "print(7*9+5)"
   ]
  },
  {
   "cell_type": "code",
   "execution_count": null,
   "metadata": {},
   "outputs": [],
   "source": [
    "def convert_to_preferred_format(sec):\n",
    "   sec = sec % (24 * 3600)\n",
    "   hour = sec // 3600\n",
    "   sec %= 3600\n",
    "   min = sec // 60\n",
    "   sec %= 60\n",
    "   print(\"seconds value in hours:\",hour)\n",
    "   print(\"seconds value in minutes:\",min)\n",
    "   return \"%02d:%02d:%02d\" % (hour, min, sec) \n",
    "\n",
    "n = 10000\n",
    "print(\"Time in preferred format :-\",convert(n))"
   ]
  },
  {
   "cell_type": "markdown",
   "metadata": {},
   "source": [
    "The information listed below will contain and unordered list.\n",
    "Learn Data Science, Learn Python, Save World."
   ]
  },
  {
   "cell_type": "markdown",
   "metadata": {},
   "source": [
    "by Jarel Fernandez"
   ]
  },
  {
   "cell_type": "code",
   "execution_count": null,
   "metadata": {},
   "outputs": [],
   "source": []
  }
 ],
 "metadata": {
  "kernelspec": {
   "display_name": "Python",
   "language": "python",
   "name": "conda-env-python-py"
  },
  "language_info": {
   "codemirror_mode": {
    "name": "ipython",
    "version": 3
   },
   "file_extension": ".py",
   "mimetype": "text/x-python",
   "name": "python",
   "nbconvert_exporter": "python",
   "pygments_lexer": "ipython3",
   "version": "3.7.12"
  }
 },
 "nbformat": 4,
 "nbformat_minor": 4
}
